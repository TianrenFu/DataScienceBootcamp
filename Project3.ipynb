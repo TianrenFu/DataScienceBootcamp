{
 "cells": [
  {
   "cell_type": "markdown",
   "metadata": {},
   "source": [
    "# Project 3: Credit Card Default Detection"
   ]
  },
  {
   "cell_type": "markdown",
   "metadata": {},
   "source": [
    "#### 1. Given the data below, please classify the two cluster data and find the boundary line to devide the two groups. Use visualization to show your answer. "
   ]
  },
  {
   "cell_type": "code",
   "execution_count": 1,
   "metadata": {},
   "outputs": [],
   "source": [
    "import numpy as np\n",
    "import pandas as pd\n",
    "import matplotlib.pyplot as plt\n",
    "import seaborn as sns\n",
    "%matplotlib inline\n",
    "from sklearn import datasets\n",
    "\n",
    "X,Y = datasets.make_blobs(n_samples=200, n_features=2, centers=2, random_state=2)"
   ]
  },
  {
   "cell_type": "code",
   "execution_count": 2,
   "metadata": {},
   "outputs": [
    {
     "data": {
      "image/png": "[encoded data removed]",
      "text/plain": [
       "<Figure size 288x288 with 1 Axes>"
      ]
     },
     "metadata": {
      "needs_background": "light"
     },
     "output_type": "display_data"
    }
   ],
   "source": [
    "plt.figure(figsize=(4, 4))\n",
    "plt.scatter(X[:, 0], X[:, 1])\n",
    "plt.show()"
   ]
  },
  {
   "cell_type": "markdown",
   "metadata": {},
   "source": [
    "#### 2. Following you will need to solve a Credit Card Default Detection Case\n",
    "\n",
    "* Credit Card Default\n",
    "    * To default is to fail to make a payment on a debt by the due date. If this happens with a credit card, creditors might raise interest rates to the default (or penalty rate) or decrease the line of credit. In case of serious delinquency, the card issuer can even take legal action to enforce payment or to garnish wages.\n",
    "\n",
    "* Objective\n",
    "    * Our objective for this project is, given the data set, we are going to build a machine learning model to predict whether a credit card is going to default"
   ]
  },
  {
   "cell_type": "markdown",
   "metadata": {},
   "source": [
    "**Data Description:**\n",
    "\n",
    "**id**: A unique Id field which represents a customer\n",
    "\n",
    "**X1**: Credit line\n",
    "\n",
    "**X2**: Gender (1 = male; 2 = female).\n",
    "\n",
    "**X3**: Education (1 = graduate school; 2 = university; 3 = high school; 4 = others).\n",
    "\n",
    "**X4**: Marital status (1 = married; 2 = single; 3 = others).\n",
    "\n",
    "**X5**: Age (year).\n",
    "\n",
    "**X6 - X11**: History of past payment. \n",
    "\n",
    "**X6** = September, 2015;\n",
    "\n",
    "**X7** = August, 2015;\n",
    "\n",
    "**X11** =April, 2015. -1 = pay one month ahead; -2 = pay two month ahead; 0 = pay on time; Positive means the payment delayed months, 1 = delay 1 month, 2 = delay 2 months, etc.\n",
    "\n",
    "**X12- X17**: Amount in bill statement.\n",
    "\n",
    "**X12** = amount of bill statementSeptember, 2015\n",
    "\n",
    "**X13** = amount of bill statementAugust, 2015\n",
    "\n",
    "**X17** = amount of bill statementApril, 2015. \n",
    "\n",
    "**X18-X23**: Amount of previous payment\n",
    "\n",
    "**X18** = amount paid in September, 2015; \n",
    "\n",
    "**X19** = amount paid in August, 2015; \n",
    "\n",
    "**X23** = amount paid in April, 2015.\n",
    "\n",
    "**Y**: A binary response variable to indicate whether the credit card is default (1) or not (0).\n",
    "\n",
    "This is a real problem to classify multi-feature data into two groups.\n",
    "\n",
    "\n"
   ]
  },
  {
   "cell_type": "markdown",
   "metadata": {},
   "source": [
    "# Objective\n",
    "* In this project, we are going to predict whether a credit card would be default or not. It's a classification problem where the label set is imbalanced since most of the credit cards are normal and only a few of them are default. For this project, we can not only have the chance to train a powerful classification model, but also tackle on the very important problem we might encounter in the future.\n",
    "\n",
    "## Steps:\n",
    "1. Perform feature engineering to the dataset the way you see fit.\n",
    "2. Choose a classifier you like to make prediction\n",
    "3. Keep in mind that the labels in target variable is imbalanced and figure out a way to deal with that problem"
   ]
  },
  {
   "cell_type": "markdown",
   "metadata": {},
   "source": [
    "**Hint for steps**\n",
    "1.\tLoad data\n",
    "2.\tThere are so many features, please discern the categorical and continuous variables.\n",
    "3.\tCheck if features have linear relationship between each other.\n",
    "5.\tChoose the proper method to train the model:\n",
    "6.\tEvaluate your model. \n",
    "7.\tUse your model to train the data. And make your submission file."
   ]
  },
  {
   "cell_type": "markdown",
   "metadata": {
    "collapsed": true
   },
   "source": [
    "**Step 1. Load Data**"
   ]
  },
  {
   "cell_type": "code",
   "execution_count": 3,
   "metadata": {},
   "outputs": [
    {
     "name": "stdout",
     "output_type": "stream",
     "text": [
      "raw.shape = (25000, 25)\n"
     ]
    },
    {
     "data": {
      "text/html": [
       "<div>\n",
       "<style scoped>\n",
       "    .dataframe tbody tr th:only-of-type {\n",
       "        vertical-align: middle;\n",
       "    }\n",
       "\n",
       "    .dataframe tbody tr th {\n",
       "        vertical-align: top;\n",
       "    }\n",
       "\n",
       "    .dataframe thead th {\n",
       "        text-align: right;\n",
       "    }\n",
       "</style>\n",
       "<table border=\"1\" class=\"dataframe\">\n",
       "  <thead>\n",
       "    <tr style=\"text-align: right;\">\n",
       "      <th></th>\n",
       "      <th>id</th>\n",
       "      <th>X1</th>\n",
       "      <th>X2</th>\n",
       "      <th>X3</th>\n",
       "      <th>X4</th>\n",
       "      <th>X5</th>\n",
       "      <th>X6</th>\n",
       "      <th>X7</th>\n",
       "      <th>X8</th>\n",
       "      <th>X9</th>\n",
       "      <th>...</th>\n",
       "      <th>X15</th>\n",
       "      <th>X16</th>\n",
       "      <th>X17</th>\n",
       "      <th>X18</th>\n",
       "      <th>X19</th>\n",
       "      <th>X20</th>\n",
       "      <th>X21</th>\n",
       "      <th>X22</th>\n",
       "      <th>X23</th>\n",
       "      <th>Y</th>\n",
       "    </tr>\n",
       "  </thead>\n",
       "  <tbody>\n",
       "    <tr>\n",
       "      <th>0</th>\n",
       "      <td>1</td>\n",
       "      <td>200000</td>\n",
       "      <td>2</td>\n",
       "      <td>3</td>\n",
       "      <td>1</td>\n",
       "      <td>53</td>\n",
       "      <td>0</td>\n",
       "      <td>0</td>\n",
       "      <td>0</td>\n",
       "      <td>0</td>\n",
       "      <td>...</td>\n",
       "      <td>133207</td>\n",
       "      <td>136159</td>\n",
       "      <td>138741</td>\n",
       "      <td>6500</td>\n",
       "      <td>5000</td>\n",
       "      <td>5000</td>\n",
       "      <td>5100</td>\n",
       "      <td>5000</td>\n",
       "      <td>5400</td>\n",
       "      <td>0</td>\n",
       "    </tr>\n",
       "    <tr>\n",
       "      <th>1</th>\n",
       "      <td>2</td>\n",
       "      <td>130000</td>\n",
       "      <td>2</td>\n",
       "      <td>3</td>\n",
       "      <td>2</td>\n",
       "      <td>39</td>\n",
       "      <td>0</td>\n",
       "      <td>0</td>\n",
       "      <td>0</td>\n",
       "      <td>2</td>\n",
       "      <td>...</td>\n",
       "      <td>130814</td>\n",
       "      <td>130758</td>\n",
       "      <td>123468</td>\n",
       "      <td>7500</td>\n",
       "      <td>10000</td>\n",
       "      <td>0</td>\n",
       "      <td>4500</td>\n",
       "      <td>4500</td>\n",
       "      <td>4179</td>\n",
       "      <td>0</td>\n",
       "    </tr>\n",
       "    <tr>\n",
       "      <th>2</th>\n",
       "      <td>3</td>\n",
       "      <td>350000</td>\n",
       "      <td>2</td>\n",
       "      <td>1</td>\n",
       "      <td>2</td>\n",
       "      <td>41</td>\n",
       "      <td>0</td>\n",
       "      <td>0</td>\n",
       "      <td>0</td>\n",
       "      <td>0</td>\n",
       "      <td>...</td>\n",
       "      <td>119947</td>\n",
       "      <td>117328</td>\n",
       "      <td>118400</td>\n",
       "      <td>6000</td>\n",
       "      <td>5900</td>\n",
       "      <td>5800</td>\n",
       "      <td>4100</td>\n",
       "      <td>4500</td>\n",
       "      <td>5000</td>\n",
       "      <td>0</td>\n",
       "    </tr>\n",
       "    <tr>\n",
       "      <th>3</th>\n",
       "      <td>4</td>\n",
       "      <td>240000</td>\n",
       "      <td>2</td>\n",
       "      <td>2</td>\n",
       "      <td>1</td>\n",
       "      <td>43</td>\n",
       "      <td>1</td>\n",
       "      <td>-2</td>\n",
       "      <td>-2</td>\n",
       "      <td>-1</td>\n",
       "      <td>...</td>\n",
       "      <td>12700</td>\n",
       "      <td>12500</td>\n",
       "      <td>26225</td>\n",
       "      <td>0</td>\n",
       "      <td>0</td>\n",
       "      <td>12700</td>\n",
       "      <td>0</td>\n",
       "      <td>13725</td>\n",
       "      <td>0</td>\n",
       "      <td>0</td>\n",
       "    </tr>\n",
       "    <tr>\n",
       "      <th>4</th>\n",
       "      <td>5</td>\n",
       "      <td>180000</td>\n",
       "      <td>1</td>\n",
       "      <td>2</td>\n",
       "      <td>2</td>\n",
       "      <td>28</td>\n",
       "      <td>-1</td>\n",
       "      <td>-1</td>\n",
       "      <td>-1</td>\n",
       "      <td>-1</td>\n",
       "      <td>...</td>\n",
       "      <td>332</td>\n",
       "      <td>416</td>\n",
       "      <td>416</td>\n",
       "      <td>0</td>\n",
       "      <td>416</td>\n",
       "      <td>332</td>\n",
       "      <td>500</td>\n",
       "      <td>3500</td>\n",
       "      <td>832</td>\n",
       "      <td>0</td>\n",
       "    </tr>\n",
       "  </tbody>\n",
       "</table>\n",
       "<p>5 rows × 25 columns</p>\n",
       "</div>"
      ],
      "text/plain": [
       "   id      X1  X2  X3  X4  X5  X6  X7  X8  X9  ...     X15     X16     X17  \\\n",
       "0   1  200000   2   3   1  53   0   0   0   0  ...  133207  136159  138741   \n",
       "1   2  130000   2   3   2  39   0   0   0   2  ...  130814  130758  123468   \n",
       "2   3  350000   2   1   2  41   0   0   0   0  ...  119947  117328  118400   \n",
       "3   4  240000   2   2   1  43   1  -2  -2  -1  ...   12700   12500   26225   \n",
       "4   5  180000   1   2   2  28  -1  -1  -1  -1  ...     332     416     416   \n",
       "\n",
       "    X18    X19    X20   X21    X22   X23  Y  \n",
       "0  6500   5000   5000  5100   5000  5400  0  \n",
       "1  7500  10000      0  4500   4500  4179  0  \n",
       "2  6000   5900   5800  4100   4500  5000  0  \n",
       "3     0      0  12700     0  13725     0  0  \n",
       "4     0    416    332   500   3500   832  0  \n",
       "\n",
       "[5 rows x 25 columns]"
      ]
     },
     "execution_count": 3,
     "metadata": {},
     "output_type": "execute_result"
    }
   ],
   "source": [
    "raw = pd.read_csv('raw_data.csv')\n",
    "print('raw.shape = ' + str(raw.shape))\n",
    "raw.head(5)"
   ]
  },
  {
   "cell_type": "markdown",
   "metadata": {},
   "source": [
    "**Step 2. Decern Categorical and Quantitative Variables**"
   ]
  },
  {
   "cell_type": "code",
   "execution_count": 4,
   "metadata": {},
   "outputs": [
    {
     "name": "stdout",
     "output_type": "stream",
     "text": [
      "#categorical_columns = 9\n"
     ]
    }
   ],
   "source": [
    "categorical_columns = []\n",
    "categorical_columns.extend(['X2', 'X3', 'X4'])  # gender, education level, marital status are categorical\n",
    "categorical_columns.extend(['X%d' % x for x in range(6, 12)])  # payment ahead has non-linear effect on its scale\n",
    "print('#categorical_columns = %d' % len(categorical_columns))"
   ]
  },
  {
   "cell_type": "code",
   "execution_count": 5,
   "metadata": {
    "scrolled": true
   },
   "outputs": [
    {
     "name": "stdout",
     "output_type": "stream",
     "text": [
      "#quantitative_columns = 14\n"
     ]
    }
   ],
   "source": [
    "quantitative_columns = [x for x in raw.columns if (x not in categorical_columns) and (x not in ('id', 'Y'))]\n",
    "print('#quantitative_columns = %d' % len(quantitative_columns))"
   ]
  },
  {
   "cell_type": "markdown",
   "metadata": {},
   "source": [
    "**Step 3. Data Cleaning**"
   ]
  },
  {
   "cell_type": "code",
   "execution_count": 6,
   "metadata": {},
   "outputs": [],
   "source": [
    "columns_to_drop = []  # list of columns to drop in the final step\n",
    "to_join = pd.DataFrame(data=raw[['id']], index=raw.index)  # dataframe to be joined in the final step"
   ]
  },
  {
   "cell_type": "markdown",
   "metadata": {},
   "source": [
    "*3.1 Missing Value Check*"
   ]
  },
  {
   "cell_type": "code",
   "execution_count": 7,
   "metadata": {},
   "outputs": [
    {
     "data": {
      "text/plain": [
       "0"
      ]
     },
     "execution_count": 7,
     "metadata": {},
     "output_type": "execute_result"
    }
   ],
   "source": [
    "number_missing = raw.isna().sum().reset_index()\n",
    "number_missing.columns = ['feature', 'number_missing']\n",
    "number_missing.sort_values(by='number_missing', ascending=False, inplace=True)\n",
    "number_missing.number_missing.max()"
   ]
  },
  {
   "cell_type": "markdown",
   "metadata": {},
   "source": [
    "*3.2 Linearity Check*"
   ]
  },
  {
   "cell_type": "code",
   "execution_count": 8,
   "metadata": {},
   "outputs": [
    {
     "data": {
      "image/png": "[encoded data removed]",
      "text/plain": [
       "<Figure size 864x720 with 2 Axes>"
      ]
     },
     "metadata": {
      "needs_background": "light"
     },
     "output_type": "display_data"
    }
   ],
   "source": [
    "corr = raw.loc[:, quantitative_columns].corr()\n",
    "plt.figure(figsize = (12, 10))\n",
    "sns.heatmap(corr)\n",
    "plt.show()"
   ]
  },
  {
   "cell_type": "markdown",
   "metadata": {},
   "source": [
    "No missing values - so use average of X12 ~ X17 instead of them."
   ]
  },
  {
   "cell_type": "code",
   "execution_count": 9,
   "metadata": {},
   "outputs": [],
   "source": [
    "c = ['X%d' % x for x in range(12, 18)]  # the columns [X12 ~ X17]\n",
    "columns_to_drop.extend(c)\n",
    "to_join['mean_bill_statement'] = raw[c].mean(axis = 1)"
   ]
  },
  {
   "cell_type": "markdown",
   "metadata": {},
   "source": [
    "*3.3 Serialize Categorical Features*"
   ]
  },
  {
   "cell_type": "code",
   "execution_count": 10,
   "metadata": {},
   "outputs": [],
   "source": [
    "columns_to_drop.append('X3')  # X3: Education (1 = graduate school; 2 = university; 3 = high school; 4 = others).\n",
    "for i in (1, 2, 3):\n",
    "    to_join['education_%d' % i] = (raw['X3'] == i).astype(float)"
   ]
  },
  {
   "cell_type": "code",
   "execution_count": 11,
   "metadata": {},
   "outputs": [],
   "source": [
    "columns_to_drop.append('X4')  # X4: Marital status (1 = married; 2 = single; 3 = others).\n",
    "for i in (1, 2):\n",
    "    to_join['maritial_%d' % i] = (raw['X4'] == i).astype(float)"
   ]
  },
  {
   "cell_type": "markdown",
   "metadata": {},
   "source": [
    "*3.4 Build Training Set*"
   ]
  },
  {
   "cell_type": "code",
   "execution_count": 12,
   "metadata": {},
   "outputs": [],
   "source": [
    "from sklearn.model_selection import train_test_split\n",
    "df_train, df_test = train_test_split(\n",
    "    raw.drop(columns_to_drop, axis=1).merge(to_join, on='id', sort=False).drop('id', axis=1),\n",
    "    test_size=0.2, random_state=1,\n",
    "    stratify=raw['Y'],\n",
    ")"
   ]
  },
  {
   "cell_type": "markdown",
   "metadata": {},
   "source": [
    "**4. Method Selection**"
   ]
  },
  {
   "cell_type": "code",
   "execution_count": 13,
   "metadata": {},
   "outputs": [],
   "source": [
    "from sklearn.pipeline import Pipeline\n",
    "from sklearn.preprocessing import StandardScaler\n",
    "from sklearn.model_selection import cross_validate\n",
    "scoring = ['accuracy', 'balanced_accuracy', 'f1', 'f1_weighted']"
   ]
  },
  {
   "cell_type": "markdown",
   "metadata": {},
   "source": [
    "*4.1 Logistic Learning*"
   ]
  },
  {
   "cell_type": "code",
   "execution_count": 14,
   "metadata": {},
   "outputs": [
    {
     "name": "stdout",
     "output_type": "stream",
     "text": [
      "Logistic Regression:\n",
      "  0.810 +/- 0.004 in accuracy\n",
      "  0.605 +/- 0.006 in balanced_accuracy\n",
      "  0.356 +/- 0.014 in f1\n",
      "  0.770 +/- 0.005 in f1_weighted\n"
     ]
    }
   ],
   "source": [
    "from sklearn.linear_model import LogisticRegression\n",
    "pipe_lr = Pipeline([\n",
    "    ('sc', StandardScaler()),\n",
    "    ('lr', LogisticRegression(random_state=1)),\n",
    "])\n",
    "scores_lr = cross_validate(\n",
    "    estimator=pipe_lr,\n",
    "    X=df_train.drop('Y', axis=1), y=df_train['Y'],\n",
    "    scoring=scoring,\n",
    "    cv=10, n_jobs=-1\n",
    ")\n",
    "print('Logistic Regression:')\n",
    "for s in scoring:\n",
    "    print('  %.3f +/- %.3f in %s' % (np.mean(scores_lr['test_' + s]), np.std(scores_lr['test_' + s]), s))"
   ]
  },
  {
   "cell_type": "markdown",
   "metadata": {},
   "source": [
    "*4.2 Logistic Regression with Balanced Labels*"
   ]
  },
  {
   "cell_type": "code",
   "execution_count": 15,
   "metadata": {},
   "outputs": [
    {
     "data": {
      "text/plain": [
       "0    15562\n",
       "1     4438\n",
       "Name: Y, dtype: int64"
      ]
     },
     "execution_count": 15,
     "metadata": {},
     "output_type": "execute_result"
    }
   ],
   "source": [
    "y_counts = df_train['Y'].value_counts()\n",
    "y_counts"
   ]
  },
  {
   "cell_type": "code",
   "execution_count": 16,
   "metadata": {},
   "outputs": [
    {
     "data": {
      "text/plain": [
       "1    15562\n",
       "0    15562\n",
       "Name: Y, dtype: int64"
      ]
     },
     "execution_count": 16,
     "metadata": {},
     "output_type": "execute_result"
    }
   ],
   "source": [
    "resampled = df_train.loc[df_train['Y'] == 1].sample(y_counts[0] - y_counts[1], replace=True, random_state=1)\n",
    "balanced_train = pd.concat([df_train, resampled])\n",
    "balanced_train['Y'].value_counts()"
   ]
  },
  {
   "cell_type": "markdown",
   "metadata": {},
   "source": [
    "With this balanced dataset, redo the LogReg."
   ]
  },
  {
   "cell_type": "code",
   "execution_count": 17,
   "metadata": {},
   "outputs": [
    {
     "name": "stdout",
     "output_type": "stream",
     "text": [
      "Logistic Regression:\n",
      "  0.678 +/- 0.010 in accuracy\n",
      "  0.678 +/- 0.010 in balanced_accuracy\n",
      "  0.671 +/- 0.012 in f1\n",
      "  0.678 +/- 0.010 in f1_weighted\n"
     ]
    }
   ],
   "source": [
    "from sklearn.linear_model import LogisticRegression\n",
    "pipe_lr = Pipeline([\n",
    "    ('sc', StandardScaler()),\n",
    "    ('lr', LogisticRegression(random_state=1)),\n",
    "])\n",
    "scores_lr = cross_validate(\n",
    "    estimator=pipe_lr,\n",
    "    X=balanced_train.drop('Y', axis=1), y=balanced_train['Y'],\n",
    "    scoring=scoring,\n",
    "    cv=10, n_jobs=-1\n",
    ")\n",
    "print('Logistic Regression:')\n",
    "for s in scoring:\n",
    "    print('  %.3f +/- %.3f in %s' % (np.mean(scores_lr['test_' + s]), np.std(scores_lr['test_' + s]), s))"
   ]
  },
  {
   "cell_type": "markdown",
   "metadata": {},
   "source": [
    "*4.3 Random Forest*"
   ]
  },
  {
   "cell_type": "code",
   "execution_count": 18,
   "metadata": {},
   "outputs": [
    {
     "name": "stdout",
     "output_type": "stream",
     "text": [
      "Random Forest:\n",
      "  0.948 +/- 0.010 in accuracy\n",
      "  0.948 +/- 0.010 in balanced_accuracy\n",
      "  0.950 +/- 0.010 in f1\n",
      "  0.948 +/- 0.010 in f1_weighted\n"
     ]
    }
   ],
   "source": [
    "from sklearn.ensemble import RandomForestClassifier\n",
    "pipe_rf = Pipeline([\n",
    "    ('sc', StandardScaler()),\n",
    "    ('rf', RandomForestClassifier(n_estimators=100, max_features=6, random_state=1)),\n",
    "])\n",
    "scores_rf = cross_validate(\n",
    "    estimator=pipe_rf,\n",
    "    X=balanced_train.drop('Y', axis=1), y=balanced_train['Y'],\n",
    "    scoring=scoring,\n",
    "    cv=10, n_jobs=-1\n",
    ")\n",
    "print('Random Forest:')\n",
    "for s in scoring:\n",
    "    print('  %.3f +/- %.3f in %s' % (np.mean(scores_rf['test_' + s]), np.std(scores_rf['test_' + s]), s))"
   ]
  },
  {
   "cell_type": "markdown",
   "metadata": {},
   "source": [
    "**5. Evaluate Your Model**"
   ]
  },
  {
   "cell_type": "markdown",
   "metadata": {},
   "source": [
    "Ramdom Forest has better performance on the training set, thus chosen."
   ]
  },
  {
   "cell_type": "code",
   "execution_count": 19,
   "metadata": {},
   "outputs": [
    {
     "data": {
      "text/plain": [
       "Pipeline(steps=[('sc', StandardScaler()),\n",
       "                ('rf', RandomForestClassifier(max_features=6, random_state=1))])"
      ]
     },
     "execution_count": 19,
     "metadata": {},
     "output_type": "execute_result"
    }
   ],
   "source": [
    "pipe_rf.fit(X=balanced_train.drop('Y', axis=1), y=balanced_train['Y'])"
   ]
  },
  {
   "cell_type": "code",
   "execution_count": 20,
   "metadata": {},
   "outputs": [
    {
     "name": "stdout",
     "output_type": "stream",
     "text": [
      "0.807 on test in accuracy\n",
      "0.668 on test in balanced_accuracy\n",
      "0.490 on test in f1\n",
      "0.794 on test in f1_weighted\n"
     ]
    }
   ],
   "source": [
    "from sklearn.metrics import get_scorer\n",
    "for s in scoring:\n",
    "    print('%.3f on test in %s' % (get_scorer(s)(estimator=pipe_rf, X=df_test.drop('Y', axis=1) ,y_true=df_test['Y']), s))"
   ]
  },
  {
   "cell_type": "code",
   "execution_count": 21,
   "metadata": {},
   "outputs": [
    {
     "data": {
      "image/png": "[encoded data removed]",
      "text/plain": [
       "<Figure size 360x360 with 1 Axes>"
      ]
     },
     "metadata": {
      "needs_background": "light"
     },
     "output_type": "display_data"
    }
   ],
   "source": [
    "from sklearn.metrics import roc_curve\n",
    "proba_binary = pipe_rf.predict_proba(df_test.drop('Y', axis=1))[:, 1]\n",
    "fpr, tpr, _ = roc_curve(y_true=df_test['Y'], y_score=proba_binary)\n",
    "plt.figure(figsize=(5, 5)); plt.title('ROC Random Forest')\n",
    "plt.xlim(0, 1); plt.xlabel('False Positive Rate')\n",
    "plt.ylim(0, 1); plt.ylabel('True Positive Rate')\n",
    "plt.plot(fpr, tpr)\n",
    "plt.show()"
   ]
  }
 ],
 "metadata": {
  "anaconda-cloud": {},
  "kernel_info": {
   "name": "python3"
  },
  "kernelspec": {
   "display_name": "Python 3",
   "language": "python",
   "name": "python3"
  },
  "language_info": {
   "codemirror_mode": {
    "name": "ipython",
    "version": 3
   },
   "file_extension": ".py",
   "mimetype": "text/x-python",
   "name": "python",
   "nbconvert_exporter": "python",
   "pygments_lexer": "ipython3",
   "version": "3.8.3"
  },
  "nteract": {
   "version": "0.15.0"
  }
 },
 "nbformat": 4,
 "nbformat_minor": 1
}
